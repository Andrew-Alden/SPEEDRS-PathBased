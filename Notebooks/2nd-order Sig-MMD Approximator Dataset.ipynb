{
 "cells": [
  {
   "cell_type": "markdown",
   "id": "5112ab39",
   "metadata": {},
   "source": [
    "# Scalable Signature-Based Distribution Regression via Reference Sets\n",
    "\n",
    "## 2nd-order Sig-MMD Approximator: Dataset\n",
    "\n",
    "### Andrew Alden, Blanka Horvath, Carmine Ventre\n",
    "\n",
    "### Table of Contents\n",
    "\n",
    "- [Initial Setup](#initial-setup)\n",
    "- [2nd-order Sig-MMD](#mmd)\n",
    "- [Zero Distances](#zero-dist)\n",
    "- [Test Dataset](#test)"
   ]
  },
  {
   "cell_type": "markdown",
   "id": "341b6f91",
   "metadata": {},
   "source": [
    "## Initial Setup <a class=\"anchor\" id=\"initial-setup\"></a>"
   ]
  },
  {
   "cell_type": "markdown",
   "id": "21300c46",
   "metadata": {},
   "source": [
    "### Change working directory to root folder"
   ]
  },
  {
   "cell_type": "code",
   "execution_count": 1,
   "id": "57f58ebc",
   "metadata": {},
   "outputs": [],
   "source": [
    "import os\n",
    "os.getcwd()\n",
    "path_parent = os.path.dirname(os.getcwd())\n",
    "os.chdir(path_parent)"
   ]
  },
  {
   "cell_type": "code",
   "execution_count": 2,
   "id": "7b476795",
   "metadata": {},
   "outputs": [],
   "source": [
    "import warnings\n",
    "warnings.filterwarnings(\"ignore\", \"You are using `torch.load` with `weights_only=False`*.\")"
   ]
  },
  {
   "cell_type": "markdown",
   "id": "dfa203cb",
   "metadata": {},
   "source": [
    "### Import libraries "
   ]
  },
  {
   "cell_type": "code",
   "execution_count": 3,
   "id": "c10a8392-3f6e-4329-ae8b-10586146b1c6",
   "metadata": {},
   "outputs": [],
   "source": [
    "import numpy as np\n",
    "import matplotlib.pyplot as plt\n",
    "import pickle\n",
    "from torch import nn\n",
    "import torch.cuda\n",
    "from tqdm.auto import tqdm\n",
    "import torch\n",
    "import iisignature\n",
    "\n",
    "from src.MMD.mmd import RBFKernel, SigKernel\n",
    "\n",
    "from src.StochasticProcesses.rBergomi import r_bergomi_sample_paths_functional_central_limit\n",
    "from src.StochasticProcesses.Heston import heston_sample_paths_inv\n",
    "from src.StochasticProcesses.BlackScholes import GBM_sample_paths\n",
    "\n",
    "from src.utils import save_dataset, load_dataset, save_path_params, load_path_params\n",
    "\n",
    "\n",
    "from src.RegressionModel.MMDDataset import MMDDataset, save_checkpoint\n"
   ]
  },
  {
   "cell_type": "code",
   "execution_count": 4,
   "id": "077303f5",
   "metadata": {},
   "outputs": [],
   "source": [
    "import sys\n",
    "\n",
    "sys.modules['numpy._core'] = np.core\n",
    "sys.modules['numpy._core.multiarray'] = np.core.multiarray"
   ]
  },
  {
   "cell_type": "markdown",
   "id": "cae30655",
   "metadata": {},
   "source": [
    "### Set device"
   ]
  },
  {
   "cell_type": "code",
   "execution_count": 5,
   "id": "fab3c1d0-6003-42a7-a4f7-8b14db6f943d",
   "metadata": {},
   "outputs": [
    {
     "name": "stdout",
     "output_type": "stream",
     "text": [
      "Device: cuda\n"
     ]
    }
   ],
   "source": [
    "device = torch.device(\"cuda\" if torch.cuda.is_available() else \"cpu\")\n",
    "print(f'Device: {device}')\n",
    "torch.backends.cudnn.benchmark = True"
   ]
  },
  {
   "cell_type": "markdown",
   "id": "fcf5ab51",
   "metadata": {},
   "source": [
    "## 2nd-order Sig-MMD <a class=\"anchor\" id=\"mmd\"></a>"
   ]
  },
  {
   "cell_type": "markdown",
   "id": "92538d11",
   "metadata": {},
   "source": [
    "### Setup"
   ]
  },
  {
   "cell_type": "code",
   "execution_count": 6,
   "id": "d46561ed-547d-47d5-a0c6-338387c59ca2",
   "metadata": {},
   "outputs": [],
   "source": [
    "static_kernel_21 = RBFKernel(sigma=0.5)\n",
    "static_kernel_22 = RBFKernel(sigma=0.5)\n",
    "\n",
    "dyadic_order = 0\n",
    "\n",
    "signature_kernel = SigKernel([static_kernel_21, static_kernel_22], dyadic_order)"
   ]
  },
  {
   "cell_type": "markdown",
   "id": "de82a487",
   "metadata": {},
   "source": [
    "### Compute Distances"
   ]
  },
  {
   "cell_type": "code",
   "execution_count": null,
   "id": "95eca6b1",
   "metadata": {},
   "outputs": [],
   "source": [
    "training_dataset = MMDDataset(signature_kernel, 5000, 5000, 5000, 5000, 5000, 5000, device)\n",
    "training_dataset.compute_distance_path_pairs()\n",
    "training_dataset.compute_expected_sigs()\n",
    "\n",
    "save_dataset(training_dataset.rbergomi_rbergomi_sample_paths, \n",
    "             training_dataset.rbergomi_rbergomi_distances,\n",
    "             'MMDApproxData/Datasets/rbergomi_rbergomi_sample_paths', \n",
    "             'MMDApproxData/Datasets/rbergomi_rbergomi_distances')\n",
    "\n",
    "save_dataset(training_dataset.rbergomi_heston_sample_paths, \n",
    "             training_dataset.rbergomi_heston_distances, \n",
    "             'MMDApproxData/Datasets/rbergomi_heston_sample_paths', \n",
    "             'MMDApproxData/Datasets/rbergomi_heston_distances')\n",
    "\n",
    "save_dataset(training_dataset.rbergomi_gbm_sample_paths, \n",
    "             training_dataset.rbergomi_gbm_distances, \n",
    "             'MMDApproxData/Datasets/rbergomi_gbm_sample_paths',\n",
    "             'MMDApproxData/Datasets/rbergomi_gbm_distances')\n",
    "\n",
    "save_dataset(training_dataset.heston_heston_sample_paths, \n",
    "             training_dataset.heston_heston_distances, \n",
    "             'MMDApproxData/Datasets/heston_heston_sample_paths',\n",
    "             'MMDApproxData/Datasets/heston_heston_distances')\n",
    "\n",
    "save_dataset(training_dataset.heston_gbm_sample_paths, \n",
    "             training_dataset.heston_gbm_distances, \n",
    "             'MMDApproxData/Datasets/heston_gbm_sample_paths', \n",
    "             'MMDApproxData/Datasets/heston_gbm_distances')\n",
    "\n",
    "save_dataset(training_dataset.gbm_gbm_sample_paths, \n",
    "             training_dataset.gbm_gbm_distances, \n",
    "             'MMDApproxData/Datasets/gbm_gbm_sample_paths', \n",
    "             'MMDApproxData/Datasets/gbm_gbm_distances')\n",
    "\n",
    "save_checkpoint(training_dataset.xi_0_list, \n",
    "                training_dataset.nu_list,\n",
    "                training_dataset.rho_rbergomi_list,\n",
    "                training_dataset.H_list, \n",
    "                training_dataset.v0_rbergomi_list,\n",
    "                training_dataset.vol_of_vol_list, \n",
    "                training_dataset.speed_list, \n",
    "                training_dataset.mean_volatility_list, \n",
    "                training_dataset.v0_heston_list, \n",
    "                training_dataset.rho_heston_list, \n",
    "                training_dataset.sigma_list, \n",
    "                training_dataset.r_list, \n",
    "                training_dataset.rbergomi_rbergomi_sample_paths,\n",
    "                training_dataset.rbergomi_rbergomi_distances, \n",
    "                training_dataset.rbergomi_heston_sample_paths, \n",
    "                training_dataset.rbergomi_heston_distances, \n",
    "                training_dataset.rbergomi_gbm_sample_paths, \n",
    "                training_dataset.rbergomi_gbm_distances, \n",
    "                training_dataset.heston_heston_sample_paths,\n",
    "                training_dataset.heston_heston_distances,\n",
    "                training_dataset.heston_gbm_sample_paths, \n",
    "                training_dataset.heston_gbm_distances, \n",
    "                training_dataset.gbm_gbm_sample_paths, \n",
    "                training_dataset.gbm_gbm_distances)\n",
    "\n",
    "\n",
    "expected_sigs = training_dataset.expected_sigs\n",
    "\n",
    "distances = training_dataset.rbergomi_rbergomi_distances + training_dataset.rbergomi_heston_distances + training_dataset.rbergomi_gbm_distances + training_dataset.heston_heston_distances + training_dataset.heston_gbm_distances + training_dataset.gbm_gbm_distances"
   ]
  },
  {
   "cell_type": "markdown",
   "id": "4d95a414",
   "metadata": {},
   "source": [
    "## Zero Distances <a class=\"anchor\" id=\"zero-dist\"></a>"
   ]
  },
  {
   "cell_type": "code",
   "execution_count": null,
   "id": "e834a1d5",
   "metadata": {},
   "outputs": [],
   "source": [
    "def compute_expected_sigs(sample_paths, sigma=1, sig_level=4):\n",
    "    \"\"\"\n",
    "    Compute the expected signatures.\n",
    "    :param sample_paths: Array/List of sample paths of shape [Num Samples, 2, Num Time Steps, Num Sim, 2].\n",
    "    :param sigma: Sigma hyperparameter.\n",
    "    :param sig_level: Signature truncation level.\n",
    "    :return: List of expected signatures.\n",
    "    \"\"\"\n",
    "    \n",
    "    expceted_sigs = np.mean(iisignature.sig(np.exp(-np.divide(np.power(np.transpose(np.asarray(sample_paths), (0, 1, 3, 2, 4)), 2), sigma)), sig_level), axis=2)\n",
    "    \n",
    "    return expceted_sigs.reshape(*expceted_sigs.shape[:-2], -1)"
   ]
  },
  {
   "cell_type": "code",
   "execution_count": 15,
   "id": "7321ca42",
   "metadata": {},
   "outputs": [
    {
     "name": "stderr",
     "output_type": "stream",
     "text": [
      "100%|██████████| 10000/10000 [00:15<00:00, 636.00it/s]\n"
     ]
    }
   ],
   "source": [
    "num_same_features = 10000\n",
    "\n",
    "same_expected_sigs = []\n",
    "same_distances = [0 for _ in range(num_same_features)]\n",
    "\n",
    "xi_0_range = (0.01, 0.2)\n",
    "nu_range = (0.5, 4.0)\n",
    "rho_range = (-1, 1)\n",
    "H_range = (0.025, 0.5)\n",
    "v0_range = (0.2, 0.8)\n",
    "\n",
    "vol_of_vol_range = (0.2, 0.8)\n",
    "speed_range = (0.2, 0.8)\n",
    "mean_volatility_range = (0.2, 0.8)\n",
    "r_range = (0.01, 0.2)\n",
    "\n",
    "sigma_range = (0.2, 0.8)\n",
    "\n",
    "sig_level = 4\n",
    "\n",
    "S0 = 1\n",
    "\n",
    "T = 1.0\n",
    "\n",
    "num_sim = 400\n",
    "num_time_steps = 14\n",
    "\n",
    "zero_sample_paths = []\n",
    "\n",
    "for _ in tqdm(range(num_same_features)):\n",
    "    \n",
    "            \n",
    "    rand = np.random.randint(1, 4, 1)\n",
    "\n",
    "    if rand[0] == 1:\n",
    "\n",
    "        p_xi_0 = np.random.uniform(xi_0_range[0], xi_0_range[1])\n",
    "        p_nu = np.random.uniform(nu_range[0], nu_range[1])\n",
    "        p_rho = np.random.uniform(rho_range[0], rho_range[1])\n",
    "        p_H = np.random.uniform(H_range[0], H_range[1])\n",
    "        p_v0 = np.random.uniform(v0_range[0], v0_range[1])\n",
    "\n",
    "        p1 = r_bergomi_sample_paths_functional_central_limit(S0, p_v0, p_H, [p_xi_0 for _ in range(num_time_steps+1)], np.sqrt(2*p_H), p_nu, p_rho, T, num_time_steps, num_sim)[-1]\n",
    "        p2 = r_bergomi_sample_paths_functional_central_limit(S0, p_v0, p_H, [p_xi_0 for _ in range(num_time_steps+1)], np.sqrt(2*p_H), p_nu, p_rho, T, num_time_steps, num_sim)[-1]\n",
    "\n",
    "    elif rand[0] == 2:\n",
    "\n",
    "        p_v0 = np.random.uniform(v0_range[0], v0_range[1])\n",
    "        p_r = np.random.uniform(r_range[0], r_range[1])\n",
    "        p_rho = np.random.uniform(rho_range[0], rho_range[1])\n",
    "        p_mean_vol = np.random.uniform(mean_volatility_range[0], mean_volatility_range[1])\n",
    "        p_speed = np.random.uniform(speed_range[0], speed_range[1])\n",
    "        p_vol_of_vol = np.random.uniform(vol_of_vol_range[0], vol_of_vol_range[1])\n",
    "\n",
    "        p1 = heston_sample_paths_inv(S0, p_v0, p_r, p_rho, p_mean_vol, p_speed, p_vol_of_vol, T, num_sim, num_time_steps)[0]\n",
    "        p2 = heston_sample_paths_inv(S0, p_v0, p_r, p_rho, p_mean_vol, p_speed, p_vol_of_vol, T, num_sim, num_time_steps)[0]\n",
    "\n",
    "    else:\n",
    "\n",
    "        p_sigma = np.random.uniform(sigma_range[0], sigma_range[1])\n",
    "        p_r = np.random.uniform(r_range[0], r_range[1])\n",
    "\n",
    "        p1 = GBM_sample_paths(S0, p_r, p_sigma, T, num_sim, num_time_steps)\n",
    "        p2 = GBM_sample_paths(S0, p_r, p_sigma, T, num_sim, num_time_steps)\n",
    "\n",
    "    zero_sample_paths.append([p1, p2])"
   ]
  },
  {
   "cell_type": "code",
   "execution_count": 16,
   "id": "62c329e9-e78e-485c-ae60-07ba8c7ba000",
   "metadata": {},
   "outputs": [],
   "source": [
    "same_expected_sig = compute_expected_sigs(zero_sample_paths)"
   ]
  },
  {
   "cell_type": "code",
   "execution_count": 18,
   "id": "0af999c7-6dc3-4673-b1c3-2854fe047ec6",
   "metadata": {},
   "outputs": [],
   "source": [
    "expected_sigs = np.concatenate((expected_sigs, same_expected_sig), axis=0)\n",
    "distances += same_distances"
   ]
  },
  {
   "cell_type": "code",
   "execution_count": 21,
   "id": "80c9f182",
   "metadata": {},
   "outputs": [],
   "source": [
    "save_dataset(expected_sigs, distances, 'MMDApproxData/expected_sigs_exp', 'MMDApproxData/distances')"
   ]
  },
  {
   "cell_type": "markdown",
   "id": "5903b76f",
   "metadata": {},
   "source": [
    "## Test Dataset <a class=\"anchor\" id=\"test\"></a>"
   ]
  },
  {
   "cell_type": "code",
   "execution_count": 6,
   "id": "c5fc35fb",
   "metadata": {},
   "outputs": [],
   "source": [
    "static_kernel_21 = RBFKernel(sigma=0.5)\n",
    "static_kernel_22 = RBFKernel(sigma=0.5)\n",
    "\n",
    "dyadic_order = 0\n",
    "\n",
    "signature_kernel = SigKernel([static_kernel_21, static_kernel_22], dyadic_order)"
   ]
  },
  {
   "cell_type": "code",
   "execution_count": null,
   "id": "52953025",
   "metadata": {},
   "outputs": [],
   "source": [
    "testing_dataset = MMDDataset(signature_kernel, 2, 2, 2, 2, 2, 2, device)\n",
    "testing_dataset.compute_distance_path_pairs()\n",
    "testing_dataset.compute_expected_sigs()\n",
    "\n",
    "expected_sigs = testing_dataset.expected_sigs\n",
    "\n",
    "distances = testing_dataset.rbergomi_rbergomi_distances + testing_dataset.rbergomi_heston_distances + testing_dataset.rbergomi_gbm_distances + testing_dataset.heston_heston_distances + testing_dataset.heston_gbm_distances + testing_dataset.gbm_gbm_distances"
   ]
  },
  {
   "cell_type": "code",
   "execution_count": null,
   "id": "a43456c4",
   "metadata": {},
   "outputs": [],
   "source": [
    "save_dataset(expected_sigs, distances, 'MMDApproxData/expected_sigs_exp_test', 'MMDApproxData/distances_test')"
   ]
  }
 ],
 "metadata": {
  "kernelspec": {
   "display_name": "Python 3 (ipykernel)",
   "language": "python",
   "name": "python3"
  },
  "language_info": {
   "codemirror_mode": {
    "name": "ipython",
    "version": 3
   },
   "file_extension": ".py",
   "mimetype": "text/x-python",
   "name": "python",
   "nbconvert_exporter": "python",
   "pygments_lexer": "ipython3",
   "version": "3.8.3"
  }
 },
 "nbformat": 4,
 "nbformat_minor": 5
}
